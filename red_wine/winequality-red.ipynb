{
 "cells": [
  {
   "cell_type": "code",
   "execution_count": 43,
   "metadata": {},
   "outputs": [],
   "source": [
    "import pandas as pd\n",
    "import numpy as np\n",
    "import matplotlib.pyplot as plt\n",
    "import seaborn as sns\n",
    "import scipy.stats as stats\n",
    "from sklearn.model_selection import train_test_split\n",
    "from sklearn.linear_model import LinearRegression\n",
    "from sklearn.metrics import mean_squared_error, r2_score"
   ]
  },
  {
   "cell_type": "code",
   "execution_count": 44,
   "metadata": {},
   "outputs": [
    {
     "data": {
      "text/html": [
       "<div>\n",
       "<style scoped>\n",
       "    .dataframe tbody tr th:only-of-type {\n",
       "        vertical-align: middle;\n",
       "    }\n",
       "\n",
       "    .dataframe tbody tr th {\n",
       "        vertical-align: top;\n",
       "    }\n",
       "\n",
       "    .dataframe thead th {\n",
       "        text-align: right;\n",
       "    }\n",
       "</style>\n",
       "<table border=\"1\" class=\"dataframe\">\n",
       "  <thead>\n",
       "    <tr style=\"text-align: right;\">\n",
       "      <th></th>\n",
       "      <th>fixed acidity</th>\n",
       "      <th>volatile acidity</th>\n",
       "      <th>citric acid</th>\n",
       "      <th>residual sugar</th>\n",
       "      <th>chlorides</th>\n",
       "      <th>free sulfur dioxide</th>\n",
       "      <th>total sulfur dioxide</th>\n",
       "      <th>density</th>\n",
       "      <th>pH</th>\n",
       "      <th>sulphates</th>\n",
       "      <th>alcohol</th>\n",
       "      <th>quality</th>\n",
       "    </tr>\n",
       "  </thead>\n",
       "  <tbody>\n",
       "    <tr>\n",
       "      <th>0</th>\n",
       "      <td>7.4</td>\n",
       "      <td>0.700</td>\n",
       "      <td>0.00</td>\n",
       "      <td>1.9</td>\n",
       "      <td>0.076</td>\n",
       "      <td>11.0</td>\n",
       "      <td>34.0</td>\n",
       "      <td>0.99780</td>\n",
       "      <td>3.51</td>\n",
       "      <td>0.56</td>\n",
       "      <td>9.4</td>\n",
       "      <td>5</td>\n",
       "    </tr>\n",
       "    <tr>\n",
       "      <th>1</th>\n",
       "      <td>7.8</td>\n",
       "      <td>0.880</td>\n",
       "      <td>0.00</td>\n",
       "      <td>2.6</td>\n",
       "      <td>0.098</td>\n",
       "      <td>25.0</td>\n",
       "      <td>67.0</td>\n",
       "      <td>0.99680</td>\n",
       "      <td>3.20</td>\n",
       "      <td>0.68</td>\n",
       "      <td>9.8</td>\n",
       "      <td>5</td>\n",
       "    </tr>\n",
       "    <tr>\n",
       "      <th>2</th>\n",
       "      <td>7.8</td>\n",
       "      <td>0.760</td>\n",
       "      <td>0.04</td>\n",
       "      <td>2.3</td>\n",
       "      <td>0.092</td>\n",
       "      <td>15.0</td>\n",
       "      <td>54.0</td>\n",
       "      <td>0.99700</td>\n",
       "      <td>3.26</td>\n",
       "      <td>0.65</td>\n",
       "      <td>9.8</td>\n",
       "      <td>5</td>\n",
       "    </tr>\n",
       "    <tr>\n",
       "      <th>3</th>\n",
       "      <td>11.2</td>\n",
       "      <td>0.280</td>\n",
       "      <td>0.56</td>\n",
       "      <td>1.9</td>\n",
       "      <td>0.075</td>\n",
       "      <td>17.0</td>\n",
       "      <td>60.0</td>\n",
       "      <td>0.99800</td>\n",
       "      <td>3.16</td>\n",
       "      <td>0.58</td>\n",
       "      <td>9.8</td>\n",
       "      <td>6</td>\n",
       "    </tr>\n",
       "    <tr>\n",
       "      <th>4</th>\n",
       "      <td>7.4</td>\n",
       "      <td>0.700</td>\n",
       "      <td>0.00</td>\n",
       "      <td>1.9</td>\n",
       "      <td>0.076</td>\n",
       "      <td>11.0</td>\n",
       "      <td>34.0</td>\n",
       "      <td>0.99780</td>\n",
       "      <td>3.51</td>\n",
       "      <td>0.56</td>\n",
       "      <td>9.4</td>\n",
       "      <td>5</td>\n",
       "    </tr>\n",
       "    <tr>\n",
       "      <th>...</th>\n",
       "      <td>...</td>\n",
       "      <td>...</td>\n",
       "      <td>...</td>\n",
       "      <td>...</td>\n",
       "      <td>...</td>\n",
       "      <td>...</td>\n",
       "      <td>...</td>\n",
       "      <td>...</td>\n",
       "      <td>...</td>\n",
       "      <td>...</td>\n",
       "      <td>...</td>\n",
       "      <td>...</td>\n",
       "    </tr>\n",
       "    <tr>\n",
       "      <th>1594</th>\n",
       "      <td>6.2</td>\n",
       "      <td>0.600</td>\n",
       "      <td>0.08</td>\n",
       "      <td>2.0</td>\n",
       "      <td>0.090</td>\n",
       "      <td>32.0</td>\n",
       "      <td>44.0</td>\n",
       "      <td>0.99490</td>\n",
       "      <td>3.45</td>\n",
       "      <td>0.58</td>\n",
       "      <td>10.5</td>\n",
       "      <td>5</td>\n",
       "    </tr>\n",
       "    <tr>\n",
       "      <th>1595</th>\n",
       "      <td>5.9</td>\n",
       "      <td>0.550</td>\n",
       "      <td>0.10</td>\n",
       "      <td>2.2</td>\n",
       "      <td>0.062</td>\n",
       "      <td>39.0</td>\n",
       "      <td>51.0</td>\n",
       "      <td>0.99512</td>\n",
       "      <td>3.52</td>\n",
       "      <td>0.76</td>\n",
       "      <td>11.2</td>\n",
       "      <td>6</td>\n",
       "    </tr>\n",
       "    <tr>\n",
       "      <th>1596</th>\n",
       "      <td>6.3</td>\n",
       "      <td>0.510</td>\n",
       "      <td>0.13</td>\n",
       "      <td>2.3</td>\n",
       "      <td>0.076</td>\n",
       "      <td>29.0</td>\n",
       "      <td>40.0</td>\n",
       "      <td>0.99574</td>\n",
       "      <td>3.42</td>\n",
       "      <td>0.75</td>\n",
       "      <td>11.0</td>\n",
       "      <td>6</td>\n",
       "    </tr>\n",
       "    <tr>\n",
       "      <th>1597</th>\n",
       "      <td>5.9</td>\n",
       "      <td>0.645</td>\n",
       "      <td>0.12</td>\n",
       "      <td>2.0</td>\n",
       "      <td>0.075</td>\n",
       "      <td>32.0</td>\n",
       "      <td>44.0</td>\n",
       "      <td>0.99547</td>\n",
       "      <td>3.57</td>\n",
       "      <td>0.71</td>\n",
       "      <td>10.2</td>\n",
       "      <td>5</td>\n",
       "    </tr>\n",
       "    <tr>\n",
       "      <th>1598</th>\n",
       "      <td>6.0</td>\n",
       "      <td>0.310</td>\n",
       "      <td>0.47</td>\n",
       "      <td>3.6</td>\n",
       "      <td>0.067</td>\n",
       "      <td>18.0</td>\n",
       "      <td>42.0</td>\n",
       "      <td>0.99549</td>\n",
       "      <td>3.39</td>\n",
       "      <td>0.66</td>\n",
       "      <td>11.0</td>\n",
       "      <td>6</td>\n",
       "    </tr>\n",
       "  </tbody>\n",
       "</table>\n",
       "<p>1599 rows × 12 columns</p>\n",
       "</div>"
      ],
      "text/plain": [
       "      fixed acidity  volatile acidity  citric acid  residual sugar  chlorides  \\\n",
       "0               7.4             0.700         0.00             1.9      0.076   \n",
       "1               7.8             0.880         0.00             2.6      0.098   \n",
       "2               7.8             0.760         0.04             2.3      0.092   \n",
       "3              11.2             0.280         0.56             1.9      0.075   \n",
       "4               7.4             0.700         0.00             1.9      0.076   \n",
       "...             ...               ...          ...             ...        ...   \n",
       "1594            6.2             0.600         0.08             2.0      0.090   \n",
       "1595            5.9             0.550         0.10             2.2      0.062   \n",
       "1596            6.3             0.510         0.13             2.3      0.076   \n",
       "1597            5.9             0.645         0.12             2.0      0.075   \n",
       "1598            6.0             0.310         0.47             3.6      0.067   \n",
       "\n",
       "      free sulfur dioxide  total sulfur dioxide  density    pH  sulphates  \\\n",
       "0                    11.0                  34.0  0.99780  3.51       0.56   \n",
       "1                    25.0                  67.0  0.99680  3.20       0.68   \n",
       "2                    15.0                  54.0  0.99700  3.26       0.65   \n",
       "3                    17.0                  60.0  0.99800  3.16       0.58   \n",
       "4                    11.0                  34.0  0.99780  3.51       0.56   \n",
       "...                   ...                   ...      ...   ...        ...   \n",
       "1594                 32.0                  44.0  0.99490  3.45       0.58   \n",
       "1595                 39.0                  51.0  0.99512  3.52       0.76   \n",
       "1596                 29.0                  40.0  0.99574  3.42       0.75   \n",
       "1597                 32.0                  44.0  0.99547  3.57       0.71   \n",
       "1598                 18.0                  42.0  0.99549  3.39       0.66   \n",
       "\n",
       "      alcohol  quality  \n",
       "0         9.4        5  \n",
       "1         9.8        5  \n",
       "2         9.8        5  \n",
       "3         9.8        6  \n",
       "4         9.4        5  \n",
       "...       ...      ...  \n",
       "1594     10.5        5  \n",
       "1595     11.2        6  \n",
       "1596     11.0        6  \n",
       "1597     10.2        5  \n",
       "1598     11.0        6  \n",
       "\n",
       "[1599 rows x 12 columns]"
      ]
     },
     "execution_count": 44,
     "metadata": {},
     "output_type": "execute_result"
    }
   ],
   "source": [
    "df = pd.read_csv('winequality-red.csv', delimiter=';')\n",
    "df"
   ]
  },
  {
   "cell_type": "code",
   "execution_count": 45,
   "metadata": {},
   "outputs": [
    {
     "data": {
      "text/plain": [
       "(array([ 10.,  53., 681., 638., 217.]),\n",
       " array([3., 4., 5., 6., 7., 8.]),\n",
       " <BarContainer object of 5 artists>)"
      ]
     },
     "execution_count": 45,
     "metadata": {},
     "output_type": "execute_result"
    },
    {
     "data": {
      "image/png": "[encoded data removed]",
      "text/plain": [
       "<Figure size 640x480 with 1 Axes>"
      ]
     },
     "metadata": {},
     "output_type": "display_data"
    }
   ],
   "source": [
    "plt.hist(df.quality,bins = 5)\n"
   ]
  },
  {
   "cell_type": "code",
   "execution_count": 46,
   "metadata": {},
   "outputs": [
    {
     "data": {
      "text/plain": [
       "fixed acidity           0\n",
       "volatile acidity        0\n",
       "citric acid             0\n",
       "residual sugar          0\n",
       "chlorides               0\n",
       "free sulfur dioxide     0\n",
       "total sulfur dioxide    0\n",
       "density                 0\n",
       "pH                      0\n",
       "sulphates               0\n",
       "alcohol                 0\n",
       "quality                 0\n",
       "dtype: int64"
      ]
     },
     "execution_count": 46,
     "metadata": {},
     "output_type": "execute_result"
    }
   ],
   "source": [
    "df.isnull().sum()"
   ]
  },
  {
   "cell_type": "code",
   "execution_count": 8,
   "metadata": {},
   "outputs": [
    {
     "data": {
      "text/plain": [
       "<Axes: xlabel='quality', ylabel='count'>"
      ]
     },
     "execution_count": 8,
     "metadata": {},
     "output_type": "execute_result"
    },
    {
     "data": {
      "image/png": "[encoded data removed]",
      "text/plain": [
       "<Figure size 640x480 with 1 Axes>"
      ]
     },
     "metadata": {},
     "output_type": "display_data"
    }
   ],
   "source": [
    "sns.countplot(x = \"quality\",data = df)"
   ]
  },
  {
   "cell_type": "code",
   "execution_count": 47,
   "metadata": {},
   "outputs": [
    {
     "data": {
      "text/plain": [
       "NormaltestResult(statistic=17.26240081635554, pvalue=0.0001784503033385499)"
      ]
     },
     "execution_count": 47,
     "metadata": {},
     "output_type": "execute_result"
    }
   ],
   "source": [
    "from scipy.stats import normaltest\n",
    "normaltest(df.quality.values)"
   ]
  },
  {
   "cell_type": "code",
   "execution_count": 48,
   "metadata": {},
   "outputs": [
    {
     "data": {
      "text/plain": [
       "{'whiskers': [<matplotlib.lines.Line2D at 0x1c57565af60>,\n",
       "  <matplotlib.lines.Line2D at 0x1c57565b1d0>],\n",
       " 'caps': [<matplotlib.lines.Line2D at 0x1c57565b470>,\n",
       "  <matplotlib.lines.Line2D at 0x1c57565b740>],\n",
       " 'boxes': [<matplotlib.lines.Line2D at 0x1c57565adb0>],\n",
       " 'medians': [<matplotlib.lines.Line2D at 0x1c57565b9e0>],\n",
       " 'fliers': [<matplotlib.lines.Line2D at 0x1c57565bc80>],\n",
       " 'means': []}"
      ]
     },
     "execution_count": 48,
     "metadata": {},
     "output_type": "execute_result"
    },
    {
     "data": {
      "image/png": "[encoded data removed]",
      "text/plain": [
       "<Figure size 640x480 with 1 Axes>"
      ]
     },
     "metadata": {},
     "output_type": "display_data"
    }
   ],
   "source": [
    "plt.boxplot(df.quality)"
   ]
  },
  {
   "cell_type": "code",
   "execution_count": 49,
   "metadata": {},
   "outputs": [
    {
     "data": {
      "text/plain": [
       "((array([-3.33053651, -3.075151  , -2.93323893, ...,  2.93323893,\n",
       "          3.075151  ,  3.33053651]),\n",
       "  array([3, 3, 3, ..., 8, 8, 8], dtype=int64)),\n",
       " (0.7490034729592755, 5.6360225140712945, 0.9260627407887105))"
      ]
     },
     "execution_count": 49,
     "metadata": {},
     "output_type": "execute_result"
    },
    {
     "data": {
      "image/png": "[encoded data removed]",
      "text/plain": [
       "<Figure size 640x480 with 1 Axes>"
      ]
     },
     "metadata": {},
     "output_type": "display_data"
    }
   ],
   "source": [
    "stats.probplot(df.quality, plot = plt)"
   ]
  },
  {
   "cell_type": "code",
   "execution_count": 51,
   "metadata": {},
   "outputs": [],
   "source": [
    "x = df.drop(\"quality\", axis = 1)\n",
    "y = df.quality"
   ]
  },
  {
   "cell_type": "code",
   "execution_count": 52,
   "metadata": {},
   "outputs": [],
   "source": [
    "x_train, x_test, y_train, y_test = train_test_split(x,y,test_size=0.2,random_state=42)"
   ]
  },
  {
   "cell_type": "code",
   "execution_count": 53,
   "metadata": {},
   "outputs": [],
   "source": [
    "from sklearn.preprocessing import StandardScaler\n",
    "scaler = StandardScaler()\n",
    "x_train_scaled = scaler.fit_transform(x_train)\n",
    "x_test_scaled = scaler.fit_transform(x_test)\n"
   ]
  },
  {
   "cell_type": "code",
   "execution_count": 55,
   "metadata": {},
   "outputs": [
    {
     "data": {
      "text/plain": [
       "array([5.31604945, 5.01510456, 5.68127734, 5.42850337, 5.69164445,\n",
       "       5.24334899, 5.00005089, 5.07336691, 5.76075607, 5.66582592,\n",
       "       6.07737057, 5.21963144, 5.54618858, 5.24281413, 5.42689969,\n",
       "       6.40764925, 5.10642483, 5.56389126, 6.55634458, 5.32781197,\n",
       "       5.32155037, 5.18606632, 5.8931055 , 6.30148969, 5.33279373,\n",
       "       5.43257911, 6.33070482, 5.3076262 , 5.17748578, 6.19154899,\n",
       "       5.22213144, 5.45658591, 5.7577219 , 5.36183832, 5.45062475,\n",
       "       4.99428909, 6.16712124, 5.6926719 , 5.61976103, 6.11944753,\n",
       "       5.50931028, 5.21590148, 6.18227967, 5.14665681, 5.88729797,\n",
       "       5.84005214, 6.45367167, 5.60532282, 5.10424797, 5.53176658,\n",
       "       5.19220769, 4.96207916, 5.53005331, 6.33877243, 4.93841224,\n",
       "       4.9672789 , 6.00389345, 5.39481548, 5.79772473, 5.23790835,\n",
       "       5.57904953, 5.93851115, 5.25124515, 5.2864384 , 6.45268358,\n",
       "       5.39491056, 6.29774203, 5.2559574 , 6.41541504, 5.29541354,\n",
       "       6.35315486, 4.72046593, 5.81225746, 5.77575218, 6.12855827,\n",
       "       5.27894632, 6.72357611, 5.87036546, 6.04274941, 6.41961714,\n",
       "       5.26570052, 6.42621675, 5.44462623, 5.65123914, 5.690297  ,\n",
       "       6.38209272, 5.28025622, 5.83568773, 6.30991908, 5.20048948,\n",
       "       6.05199223, 5.65857068, 5.7627013 , 5.88209412, 5.17557986,\n",
       "       5.73816116, 5.13945367, 5.69531786, 4.90189628, 5.49064651,\n",
       "       5.04913925, 5.11228797, 5.79347597, 5.70511814, 5.43668571,\n",
       "       6.12388035, 5.73749154, 5.40016088, 6.03988276, 5.19101544,\n",
       "       6.62985244, 5.22526854, 6.17207285, 4.70356562, 5.79713114,\n",
       "       5.97504994, 6.10463134, 5.46472419, 4.99419338, 5.78368846,\n",
       "       6.15870759, 5.27517737, 5.77346838, 5.35115592, 5.39721797,\n",
       "       5.23552338, 6.21107635, 5.66094718, 5.55731096, 5.76597791,\n",
       "       5.81225746, 5.1006751 , 4.98403954, 6.29229195, 5.53176658,\n",
       "       5.05610966, 5.02058139, 5.31081394, 5.0703158 , 5.62690122,\n",
       "       6.04264795, 6.06135399, 6.23826441, 5.44859154, 5.87349244,\n",
       "       5.26579022, 6.00650919, 5.33029466, 5.96061268, 5.04701173,\n",
       "       5.67369009, 6.1270186 , 5.08601623, 5.6472843 , 5.81225746,\n",
       "       6.11837204, 5.22686974, 5.91480812, 5.45594374, 5.92215443,\n",
       "       6.2790516 , 5.69732683, 6.08837659, 4.95292653, 5.35944542,\n",
       "       5.59711522, 4.69829947, 5.21028186, 4.98413873, 4.96674086,\n",
       "       5.1589852 , 5.06430785, 6.25606634, 5.4469237 , 5.66324606,\n",
       "       5.85196641, 6.10872606, 5.34774977, 5.33746376, 5.0838246 ,\n",
       "       4.70872791, 6.32361092, 5.54754598, 6.44751727, 5.17559411,\n",
       "       6.29985493, 5.37446261, 5.70650289, 6.69486831, 5.4469237 ,\n",
       "       5.37766229, 6.06922362, 5.54635979, 6.45366278, 5.75490458,\n",
       "       5.30326656, 4.89253114, 5.38787604, 5.50659903, 6.12388035,\n",
       "       5.38055949, 5.8259181 , 5.47344726, 4.97742106, 6.63454699,\n",
       "       5.57820962, 4.78534432, 5.71484644, 5.73738345, 6.06255358,\n",
       "       5.97731266, 5.13534103, 5.79347519, 6.55070765, 6.32422111,\n",
       "       5.72956785, 5.47970582, 5.17930893, 5.7316925 , 5.29671768,\n",
       "       5.06558086, 6.22381416, 6.28721454, 5.99047094, 5.10387546,\n",
       "       4.79361048, 5.20215229, 6.43247509, 5.46133692, 5.30245823,\n",
       "       5.57690856, 5.00984544, 6.25220541, 5.93557937, 6.01060395,\n",
       "       6.12388035, 5.34543583, 5.690297  , 4.69632207, 5.0166815 ,\n",
       "       5.68388795, 4.98515404, 5.78182543, 6.11678732, 5.0970008 ,\n",
       "       5.56089575, 6.07437392, 5.33383339, 6.61643801, 5.06939812,\n",
       "       5.75097329, 5.59217519, 5.32264416, 5.50787062, 5.16023166,\n",
       "       5.14278   , 5.45834288, 5.81581702, 5.68265026, 6.75578304,\n",
       "       6.15427542, 5.97544636, 5.34774977, 6.39551337, 5.88534936,\n",
       "       6.30270474, 4.96839387, 4.89915585, 5.89917729, 6.23961362,\n",
       "       5.13162916, 5.80610611, 5.38045843, 5.1491491 , 5.31695127,\n",
       "       5.45071657, 5.63103682, 6.16778545, 6.23834534, 5.27152873,\n",
       "       6.48487125, 4.86012679, 5.36831937, 5.4664341 , 5.32323655,\n",
       "       5.76432538, 4.94246111, 6.06135399, 5.02421457, 5.72002785,\n",
       "       5.63580034, 6.522748  , 5.70433708, 5.54982951, 4.89280091,\n",
       "       6.3206434 , 5.08069966, 6.24037052, 6.2178178 , 6.43919434,\n",
       "       5.46829168, 5.13429407, 6.22044455, 5.34085497, 5.23626246,\n",
       "       5.30349916, 5.84346272, 5.91350412, 6.17330727, 6.55499262,\n",
       "       5.50275989, 5.51941077, 5.47569428, 5.5992414 , 5.36183832,\n",
       "       5.62003761, 5.17020438, 5.2231103 , 6.22656166, 5.17096594])"
      ]
     },
     "execution_count": 55,
     "metadata": {},
     "output_type": "execute_result"
    }
   ],
   "source": [
    "model = LinearRegression()\n",
    "model.fit(x_train_scaled, y_train)\n",
    "y_pred = model.predict(x_test_scaled)\n",
    "y_pred"
   ]
  },
  {
   "cell_type": "code",
   "execution_count": 56,
   "metadata": {},
   "outputs": [
    {
     "data": {
      "text/plain": [
       "0       5\n",
       "1       5\n",
       "2       5\n",
       "3       6\n",
       "4       5\n",
       "       ..\n",
       "1594    5\n",
       "1595    6\n",
       "1596    6\n",
       "1597    5\n",
       "1598    6\n",
       "Name: quality, Length: 1599, dtype: int64"
      ]
     },
     "execution_count": 56,
     "metadata": {},
     "output_type": "execute_result"
    }
   ],
   "source": [
    "y"
   ]
  },
  {
   "cell_type": "code",
   "execution_count": 58,
   "metadata": {},
   "outputs": [
    {
     "data": {
      "text/plain": [
       "0.39078829344525523"
      ]
     },
     "execution_count": 58,
     "metadata": {},
     "output_type": "execute_result"
    }
   ],
   "source": [
    "mse = mean_squared_error(y_test, y_pred)\n",
    "mse"
   ]
  },
  {
   "cell_type": "code",
   "execution_count": 59,
   "metadata": {},
   "outputs": [
    {
     "data": {
      "text/plain": [
       "0.40201256371442884"
      ]
     },
     "execution_count": 59,
     "metadata": {},
     "output_type": "execute_result"
    }
   ],
   "source": [
    "r2 = r2_score(y_test, y_pred)\n",
    "r2"
   ]
  }
 ],
 "metadata": {
  "kernelspec": {
   "display_name": "Python 3",
   "language": "python",
   "name": "python3"
  },
  "language_info": {
   "codemirror_mode": {
    "name": "ipython",
    "version": 3
   },
   "file_extension": ".py",
   "mimetype": "text/x-python",
   "name": "python",
   "nbconvert_exporter": "python",
   "pygments_lexer": "ipython3",
   "version": "3.12.3"
  }
 },
 "nbformat": 4,
 "nbformat_minor": 2
}
